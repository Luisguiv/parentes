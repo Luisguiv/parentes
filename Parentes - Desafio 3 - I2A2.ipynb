{
 "cells": [
  {
   "cell_type": "markdown",
   "id": "d1d1a573",
   "metadata": {},
   "source": [
    "<p href\"https://github.com/Luisguiv\" style=\"color: black\"><b>Autor: Luis Guilherme Vosgerau Baroni</b></p>\n",
    "<p style=\"color: black\"><b>Data limite: 08/04/2022</b></p> \n",
    "<header style=\"width: 100%; background-color: #70111f\">\n",
    "<a href=\"https://www.i2a2.ca/\"><img style=\"padding: 0; margin: 0\" src=\"https://static.wixstatic.com/media/b12e17_8ca034d8e1e54c7481d4de3f5d76046e~mv2_d_2198_1330_s_2.png/v1/fill/w_333,h_200,al_c,usm_0.66_1.00_0.01,enc_auto/Logo_I2A2_fundo_preto.png\"></a>\n",
    "</header>\n",
    "<p style=\"width: 100%; color: black; font-size: 25px\"><b>I2A2 - Institut d'Intelligence Artificielle Appliquée</b></p>\n",
    "<p style=\"width: 90%; color: black; font-size: 22px\">Desafio 2 - Determinar parentesco entre indivíduos</p>\n",
    "<br>\n",
    "<p style=\"color: black\">Referências e Apoio</p>\n",
    "<li style=\"color: black\" href=\"https://www.youtube.com/watch?v=Lsue2gEM9D0&ab_channel=StatQuestwithJoshStarmer\">StatQuest with Josh Starmer</li>\n",
    "<li style=\"color: black\" href=\"https://github.com/onediojunior\"><a style=\"color: black\">Onédio Siqueira SEABRA Junior</a></li>"
   ]
  },
  {
   "cell_type": "code",
   "execution_count": 1,
   "id": "9407ea57",
   "metadata": {},
   "outputs": [
    {
     "name": "stdout",
     "output_type": "stream",
     "text": [
      "Requirement already satisfied: pandas in c:\\users\\luis\\anaconda3\\lib\\site-packages (1.3.4)\n",
      "Requirement already satisfied: pyarrow in c:\\users\\luis\\anaconda3\\lib\\site-packages (7.0.0)\n",
      "Requirement already satisfied: numpy>=1.17.3 in c:\\users\\luis\\anaconda3\\lib\\site-packages (from pandas) (1.20.3)\n",
      "Requirement already satisfied: python-dateutil>=2.7.3 in c:\\users\\luis\\anaconda3\\lib\\site-packages (from pandas) (2.8.2)\n",
      "Requirement already satisfied: pytz>=2017.3 in c:\\users\\luis\\anaconda3\\lib\\site-packages (from pandas) (2021.3)\n",
      "Requirement already satisfied: six>=1.5 in c:\\users\\luis\\anaconda3\\lib\\site-packages (from python-dateutil>=2.7.3->pandas) (1.16.0)\n"
     ]
    }
   ],
   "source": [
    "!pip install pandas pyarrow"
   ]
  },
  {
   "cell_type": "code",
   "execution_count": 2,
   "id": "7069e7e2",
   "metadata": {},
   "outputs": [
    {
     "name": "stdout",
     "output_type": "stream",
     "text": [
      "Requirement already satisfied: factor_analyzer in c:\\users\\luis\\anaconda3\\lib\\site-packages (0.4.0)\n",
      "Requirement already satisfied: scipy in c:\\users\\luis\\anaconda3\\lib\\site-packages (from factor_analyzer) (1.7.1)\n",
      "Requirement already satisfied: pandas in c:\\users\\luis\\anaconda3\\lib\\site-packages (from factor_analyzer) (1.3.4)\n",
      "Requirement already satisfied: numpy in c:\\users\\luis\\anaconda3\\lib\\site-packages (from factor_analyzer) (1.20.3)\n",
      "Requirement already satisfied: scikit-learn in c:\\users\\luis\\anaconda3\\lib\\site-packages (from factor_analyzer) (0.24.2)\n",
      "Requirement already satisfied: pytz>=2017.3 in c:\\users\\luis\\anaconda3\\lib\\site-packages (from pandas->factor_analyzer) (2021.3)\n",
      "Requirement already satisfied: python-dateutil>=2.7.3 in c:\\users\\luis\\anaconda3\\lib\\site-packages (from pandas->factor_analyzer) (2.8.2)\n",
      "Requirement already satisfied: six>=1.5 in c:\\users\\luis\\anaconda3\\lib\\site-packages (from python-dateutil>=2.7.3->pandas->factor_analyzer) (1.16.0)\n",
      "Requirement already satisfied: threadpoolctl>=2.0.0 in c:\\users\\luis\\anaconda3\\lib\\site-packages (from scikit-learn->factor_analyzer) (2.2.0)\n",
      "Requirement already satisfied: joblib>=0.11 in c:\\users\\luis\\anaconda3\\lib\\site-packages (from scikit-learn->factor_analyzer) (1.1.0)\n"
     ]
    }
   ],
   "source": [
    "!pip install factor_analyzer"
   ]
  },
  {
   "cell_type": "code",
   "execution_count": 3,
   "id": "773676cd",
   "metadata": {},
   "outputs": [],
   "source": [
    "import pandas as pd\n",
    "import numpy as np\n",
    "import matplotlib.pyplot as plt\n",
    "import seaborn as sns\n",
    "from scipy.cluster.hierarchy import dendrogram, linkage\n",
    "from factor_analyzer.factor_analyzer import calculate_kmo\n",
    "\n",
    "from sklearn.metrics import silhouette_score\n",
    "from sklearn import preprocessing\n",
    "from sklearn.datasets import load_digits\n",
    "from sklearn.decomposition import PCA\n",
    "from sklearn.cluster import KMeans\n",
    "\n",
    "# pandas collumns and rows def\n",
    "pd.options.display.max_columns = 15\n",
    "pd.options.display.max_rows = 200\n",
    "\n",
    "#supress futurewarning\n",
    "import warnings\n",
    "warnings.simplefilter(action='ignore', category=FutureWarning)\n",
    "warnings.filterwarnings(\"ignore\")"
   ]
  },
  {
   "cell_type": "code",
   "execution_count": 4,
   "id": "28aca9cc",
   "metadata": {},
   "outputs": [
    {
     "data": {
      "text/html": [
       "<div>\n",
       "<style scoped>\n",
       "    .dataframe tbody tr th:only-of-type {\n",
       "        vertical-align: middle;\n",
       "    }\n",
       "\n",
       "    .dataframe tbody tr th {\n",
       "        vertical-align: top;\n",
       "    }\n",
       "\n",
       "    .dataframe thead th {\n",
       "        text-align: right;\n",
       "    }\n",
       "</style>\n",
       "<table border=\"1\" class=\"dataframe\">\n",
       "  <thead>\n",
       "    <tr style=\"text-align: right;\">\n",
       "      <th></th>\n",
       "      <th>Unnamed: 0</th>\n",
       "      <th>H223</th>\n",
       "      <th>H224</th>\n",
       "      <th>H225</th>\n",
       "      <th>H226</th>\n",
       "      <th>H227</th>\n",
       "      <th>H228</th>\n",
       "      <th>...</th>\n",
       "      <th>H264</th>\n",
       "      <th>H265</th>\n",
       "      <th>H266</th>\n",
       "      <th>H267</th>\n",
       "      <th>H268</th>\n",
       "      <th>H269</th>\n",
       "      <th>H270</th>\n",
       "    </tr>\n",
       "  </thead>\n",
       "  <tbody>\n",
       "    <tr>\n",
       "      <th>46732</th>\n",
       "      <td>ENSG00000257095</td>\n",
       "      <td>0</td>\n",
       "      <td>0</td>\n",
       "      <td>0</td>\n",
       "      <td>0</td>\n",
       "      <td>0</td>\n",
       "      <td>0</td>\n",
       "      <td>...</td>\n",
       "      <td>0</td>\n",
       "      <td>0</td>\n",
       "      <td>0</td>\n",
       "      <td>0</td>\n",
       "      <td>0</td>\n",
       "      <td>0</td>\n",
       "      <td>0</td>\n",
       "    </tr>\n",
       "    <tr>\n",
       "      <th>37339</th>\n",
       "      <td>ENSG00000238156</td>\n",
       "      <td>0</td>\n",
       "      <td>0</td>\n",
       "      <td>0</td>\n",
       "      <td>0</td>\n",
       "      <td>0</td>\n",
       "      <td>0</td>\n",
       "      <td>...</td>\n",
       "      <td>0</td>\n",
       "      <td>0</td>\n",
       "      <td>0</td>\n",
       "      <td>0</td>\n",
       "      <td>0</td>\n",
       "      <td>0</td>\n",
       "      <td>0</td>\n",
       "    </tr>\n",
       "    <tr>\n",
       "      <th>51778</th>\n",
       "      <td>ENSG00000264742</td>\n",
       "      <td>0</td>\n",
       "      <td>0</td>\n",
       "      <td>0</td>\n",
       "      <td>0</td>\n",
       "      <td>0</td>\n",
       "      <td>0</td>\n",
       "      <td>...</td>\n",
       "      <td>0</td>\n",
       "      <td>0</td>\n",
       "      <td>0</td>\n",
       "      <td>0</td>\n",
       "      <td>0</td>\n",
       "      <td>0</td>\n",
       "      <td>0</td>\n",
       "    </tr>\n",
       "    <tr>\n",
       "      <th>6734</th>\n",
       "      <td>ENSG00000133119</td>\n",
       "      <td>47</td>\n",
       "      <td>33</td>\n",
       "      <td>23</td>\n",
       "      <td>136</td>\n",
       "      <td>14</td>\n",
       "      <td>12</td>\n",
       "      <td>...</td>\n",
       "      <td>18</td>\n",
       "      <td>4</td>\n",
       "      <td>65</td>\n",
       "      <td>10</td>\n",
       "      <td>3</td>\n",
       "      <td>13</td>\n",
       "      <td>37</td>\n",
       "    </tr>\n",
       "    <tr>\n",
       "      <th>54326</th>\n",
       "      <td>ENSG00000268581</td>\n",
       "      <td>9</td>\n",
       "      <td>13</td>\n",
       "      <td>6</td>\n",
       "      <td>1</td>\n",
       "      <td>19</td>\n",
       "      <td>7</td>\n",
       "      <td>...</td>\n",
       "      <td>19</td>\n",
       "      <td>13</td>\n",
       "      <td>4</td>\n",
       "      <td>19</td>\n",
       "      <td>41</td>\n",
       "      <td>27</td>\n",
       "      <td>9</td>\n",
       "    </tr>\n",
       "  </tbody>\n",
       "</table>\n",
       "<p>5 rows × 49 columns</p>\n",
       "</div>"
      ],
      "text/plain": [
       "            Unnamed: 0  H223  H224  H225  H226  H227  H228  ...  H264  H265  \\\n",
       "46732  ENSG00000257095     0     0     0     0     0     0  ...     0     0   \n",
       "37339  ENSG00000238156     0     0     0     0     0     0  ...     0     0   \n",
       "51778  ENSG00000264742     0     0     0     0     0     0  ...     0     0   \n",
       "6734   ENSG00000133119    47    33    23   136    14    12  ...    18     4   \n",
       "54326  ENSG00000268581     9    13     6     1    19     7  ...    19    13   \n",
       "\n",
       "       H266  H267  H268  H269  H270  \n",
       "46732     0     0     0     0     0  \n",
       "37339     0     0     0     0     0  \n",
       "51778     0     0     0     0     0  \n",
       "6734     65    10     3    13    37  \n",
       "54326     4    19    41    27     9  \n",
       "\n",
       "[5 rows x 49 columns]"
      ]
     },
     "execution_count": 4,
     "metadata": {},
     "output_type": "execute_result"
    }
   ],
   "source": [
    "df_count = pd.read_excel(\"readcounts.xlsx\")\n",
    "df_count.sample(5)"
   ]
  },
  {
   "cell_type": "code",
   "execution_count": 5,
   "id": "6a389c25",
   "metadata": {},
   "outputs": [
    {
     "name": "stdout",
     "output_type": "stream",
     "text": [
      "Genes:  65215\n"
     ]
    }
   ],
   "source": [
    "print(\"Genes: \", df_count.value_counts().sum())"
   ]
  },
  {
   "cell_type": "code",
   "execution_count": 6,
   "id": "03a9bf68",
   "metadata": {},
   "outputs": [
    {
     "name": "stdout",
     "output_type": "stream",
     "text": [
      "No missing values!\n"
     ]
    }
   ],
   "source": [
    "if not df_count.isnull().values.any():\n",
    "  print(\"No missing values!\")\n",
    "else:\n",
    "  print(\"There're missing values!\")"
   ]
  },
  {
   "cell_type": "code",
   "execution_count": 7,
   "id": "fd5ad683",
   "metadata": {},
   "outputs": [
    {
     "data": {
      "text/html": [
       "<div>\n",
       "<style scoped>\n",
       "    .dataframe tbody tr th:only-of-type {\n",
       "        vertical-align: middle;\n",
       "    }\n",
       "\n",
       "    .dataframe tbody tr th {\n",
       "        vertical-align: top;\n",
       "    }\n",
       "\n",
       "    .dataframe thead th {\n",
       "        text-align: right;\n",
       "    }\n",
       "</style>\n",
       "<table border=\"1\" class=\"dataframe\">\n",
       "  <thead>\n",
       "    <tr style=\"text-align: right;\">\n",
       "      <th></th>\n",
       "      <th>Unnamed: 0</th>\n",
       "      <th>H223</th>\n",
       "      <th>H224</th>\n",
       "      <th>H225</th>\n",
       "      <th>H226</th>\n",
       "      <th>H227</th>\n",
       "      <th>H228</th>\n",
       "      <th>...</th>\n",
       "      <th>H264</th>\n",
       "      <th>H265</th>\n",
       "      <th>H266</th>\n",
       "      <th>H267</th>\n",
       "      <th>H268</th>\n",
       "      <th>H269</th>\n",
       "      <th>H270</th>\n",
       "    </tr>\n",
       "  </thead>\n",
       "  <tbody>\n",
       "    <tr>\n",
       "      <th>25277</th>\n",
       "      <td>ENSG00000222629</td>\n",
       "      <td>0</td>\n",
       "      <td>0</td>\n",
       "      <td>0</td>\n",
       "      <td>0</td>\n",
       "      <td>0</td>\n",
       "      <td>0</td>\n",
       "      <td>...</td>\n",
       "      <td>0</td>\n",
       "      <td>0</td>\n",
       "      <td>0</td>\n",
       "      <td>1</td>\n",
       "      <td>0</td>\n",
       "      <td>0</td>\n",
       "      <td>0</td>\n",
       "    </tr>\n",
       "    <tr>\n",
       "      <th>45519</th>\n",
       "      <td>ENSG00000254937</td>\n",
       "      <td>0</td>\n",
       "      <td>0</td>\n",
       "      <td>0</td>\n",
       "      <td>1</td>\n",
       "      <td>0</td>\n",
       "      <td>0</td>\n",
       "      <td>...</td>\n",
       "      <td>0</td>\n",
       "      <td>0</td>\n",
       "      <td>0</td>\n",
       "      <td>0</td>\n",
       "      <td>0</td>\n",
       "      <td>0</td>\n",
       "      <td>0</td>\n",
       "    </tr>\n",
       "    <tr>\n",
       "      <th>30770</th>\n",
       "      <td>ENSG00000229903</td>\n",
       "      <td>0</td>\n",
       "      <td>0</td>\n",
       "      <td>0</td>\n",
       "      <td>0</td>\n",
       "      <td>0</td>\n",
       "      <td>0</td>\n",
       "      <td>...</td>\n",
       "      <td>0</td>\n",
       "      <td>0</td>\n",
       "      <td>0</td>\n",
       "      <td>0</td>\n",
       "      <td>0</td>\n",
       "      <td>0</td>\n",
       "      <td>0</td>\n",
       "    </tr>\n",
       "    <tr>\n",
       "      <th>5847</th>\n",
       "      <td>ENSG00000126602</td>\n",
       "      <td>418</td>\n",
       "      <td>569</td>\n",
       "      <td>689</td>\n",
       "      <td>292</td>\n",
       "      <td>85</td>\n",
       "      <td>90</td>\n",
       "      <td>...</td>\n",
       "      <td>131</td>\n",
       "      <td>369</td>\n",
       "      <td>324</td>\n",
       "      <td>126</td>\n",
       "      <td>105</td>\n",
       "      <td>109</td>\n",
       "      <td>483</td>\n",
       "    </tr>\n",
       "    <tr>\n",
       "      <th>26516</th>\n",
       "      <td>ENSG00000224523</td>\n",
       "      <td>0</td>\n",
       "      <td>2</td>\n",
       "      <td>2</td>\n",
       "      <td>1</td>\n",
       "      <td>0</td>\n",
       "      <td>0</td>\n",
       "      <td>...</td>\n",
       "      <td>0</td>\n",
       "      <td>0</td>\n",
       "      <td>0</td>\n",
       "      <td>0</td>\n",
       "      <td>0</td>\n",
       "      <td>0</td>\n",
       "      <td>0</td>\n",
       "    </tr>\n",
       "    <tr>\n",
       "      <th>...</th>\n",
       "      <td>...</td>\n",
       "      <td>...</td>\n",
       "      <td>...</td>\n",
       "      <td>...</td>\n",
       "      <td>...</td>\n",
       "      <td>...</td>\n",
       "      <td>...</td>\n",
       "      <td>...</td>\n",
       "      <td>...</td>\n",
       "      <td>...</td>\n",
       "      <td>...</td>\n",
       "      <td>...</td>\n",
       "      <td>...</td>\n",
       "      <td>...</td>\n",
       "      <td>...</td>\n",
       "    </tr>\n",
       "    <tr>\n",
       "      <th>51743</th>\n",
       "      <td>ENSG00000264697</td>\n",
       "      <td>0</td>\n",
       "      <td>0</td>\n",
       "      <td>1</td>\n",
       "      <td>0</td>\n",
       "      <td>0</td>\n",
       "      <td>0</td>\n",
       "      <td>...</td>\n",
       "      <td>0</td>\n",
       "      <td>0</td>\n",
       "      <td>0</td>\n",
       "      <td>0</td>\n",
       "      <td>0</td>\n",
       "      <td>0</td>\n",
       "      <td>0</td>\n",
       "    </tr>\n",
       "    <tr>\n",
       "      <th>40805</th>\n",
       "      <td>ENSG00000248646</td>\n",
       "      <td>0</td>\n",
       "      <td>0</td>\n",
       "      <td>0</td>\n",
       "      <td>0</td>\n",
       "      <td>0</td>\n",
       "      <td>0</td>\n",
       "      <td>...</td>\n",
       "      <td>0</td>\n",
       "      <td>0</td>\n",
       "      <td>0</td>\n",
       "      <td>0</td>\n",
       "      <td>0</td>\n",
       "      <td>0</td>\n",
       "      <td>0</td>\n",
       "    </tr>\n",
       "    <tr>\n",
       "      <th>40747</th>\n",
       "      <td>ENSG00000248554</td>\n",
       "      <td>2</td>\n",
       "      <td>2</td>\n",
       "      <td>0</td>\n",
       "      <td>0</td>\n",
       "      <td>0</td>\n",
       "      <td>0</td>\n",
       "      <td>...</td>\n",
       "      <td>0</td>\n",
       "      <td>0</td>\n",
       "      <td>0</td>\n",
       "      <td>0</td>\n",
       "      <td>0</td>\n",
       "      <td>0</td>\n",
       "      <td>0</td>\n",
       "    </tr>\n",
       "    <tr>\n",
       "      <th>56476</th>\n",
       "      <td>ENSG00000272659</td>\n",
       "      <td>0</td>\n",
       "      <td>0</td>\n",
       "      <td>0</td>\n",
       "      <td>1</td>\n",
       "      <td>0</td>\n",
       "      <td>1</td>\n",
       "      <td>...</td>\n",
       "      <td>0</td>\n",
       "      <td>1</td>\n",
       "      <td>1</td>\n",
       "      <td>0</td>\n",
       "      <td>1</td>\n",
       "      <td>0</td>\n",
       "      <td>0</td>\n",
       "    </tr>\n",
       "    <tr>\n",
       "      <th>38295</th>\n",
       "      <td>ENSG00000240382</td>\n",
       "      <td>2</td>\n",
       "      <td>7</td>\n",
       "      <td>2</td>\n",
       "      <td>2</td>\n",
       "      <td>6</td>\n",
       "      <td>1</td>\n",
       "      <td>...</td>\n",
       "      <td>3</td>\n",
       "      <td>2</td>\n",
       "      <td>1</td>\n",
       "      <td>1</td>\n",
       "      <td>1</td>\n",
       "      <td>4</td>\n",
       "      <td>2</td>\n",
       "    </tr>\n",
       "  </tbody>\n",
       "</table>\n",
       "<p>65215 rows × 49 columns</p>\n",
       "</div>"
      ],
      "text/plain": [
       "            Unnamed: 0  H223  H224  H225  H226  H227  H228  ...  H264  H265  \\\n",
       "25277  ENSG00000222629     0     0     0     0     0     0  ...     0     0   \n",
       "45519  ENSG00000254937     0     0     0     1     0     0  ...     0     0   \n",
       "30770  ENSG00000229903     0     0     0     0     0     0  ...     0     0   \n",
       "5847   ENSG00000126602   418   569   689   292    85    90  ...   131   369   \n",
       "26516  ENSG00000224523     0     2     2     1     0     0  ...     0     0   \n",
       "...                ...   ...   ...   ...   ...   ...   ...  ...   ...   ...   \n",
       "51743  ENSG00000264697     0     0     1     0     0     0  ...     0     0   \n",
       "40805  ENSG00000248646     0     0     0     0     0     0  ...     0     0   \n",
       "40747  ENSG00000248554     2     2     0     0     0     0  ...     0     0   \n",
       "56476  ENSG00000272659     0     0     0     1     0     1  ...     0     1   \n",
       "38295  ENSG00000240382     2     7     2     2     6     1  ...     3     2   \n",
       "\n",
       "       H266  H267  H268  H269  H270  \n",
       "25277     0     1     0     0     0  \n",
       "45519     0     0     0     0     0  \n",
       "30770     0     0     0     0     0  \n",
       "5847    324   126   105   109   483  \n",
       "26516     0     0     0     0     0  \n",
       "...     ...   ...   ...   ...   ...  \n",
       "51743     0     0     0     0     0  \n",
       "40805     0     0     0     0     0  \n",
       "40747     0     0     0     0     0  \n",
       "56476     1     0     1     0     0  \n",
       "38295     1     1     1     4     2  \n",
       "\n",
       "[65215 rows x 49 columns]"
      ]
     },
     "execution_count": 7,
     "metadata": {},
     "output_type": "execute_result"
    }
   ],
   "source": [
    "df_cpy = df_count.copy()\n",
    "df_cpy.sample(len(df_cpy))"
   ]
  },
  {
   "cell_type": "code",
   "execution_count": 8,
   "id": "c1e76fcf",
   "metadata": {},
   "outputs": [
    {
     "data": {
      "text/html": [
       "<div>\n",
       "<style scoped>\n",
       "    .dataframe tbody tr th:only-of-type {\n",
       "        vertical-align: middle;\n",
       "    }\n",
       "\n",
       "    .dataframe tbody tr th {\n",
       "        vertical-align: top;\n",
       "    }\n",
       "\n",
       "    .dataframe thead th {\n",
       "        text-align: right;\n",
       "    }\n",
       "</style>\n",
       "<table border=\"1\" class=\"dataframe\">\n",
       "  <thead>\n",
       "    <tr style=\"text-align: right;\">\n",
       "      <th></th>\n",
       "      <th>Unnamed: 0</th>\n",
       "      <th>H223</th>\n",
       "      <th>H224</th>\n",
       "      <th>H225</th>\n",
       "      <th>H226</th>\n",
       "      <th>H227</th>\n",
       "      <th>H228</th>\n",
       "      <th>...</th>\n",
       "      <th>H265</th>\n",
       "      <th>H266</th>\n",
       "      <th>H267</th>\n",
       "      <th>H268</th>\n",
       "      <th>H269</th>\n",
       "      <th>H270</th>\n",
       "      <th>MISS</th>\n",
       "    </tr>\n",
       "  </thead>\n",
       "  <tbody>\n",
       "    <tr>\n",
       "      <th>0</th>\n",
       "      <td>ENSG00000000003</td>\n",
       "      <td>0</td>\n",
       "      <td>0</td>\n",
       "      <td>0</td>\n",
       "      <td>1</td>\n",
       "      <td>0</td>\n",
       "      <td>0</td>\n",
       "      <td>...</td>\n",
       "      <td>0</td>\n",
       "      <td>2</td>\n",
       "      <td>0</td>\n",
       "      <td>0</td>\n",
       "      <td>1</td>\n",
       "      <td>0</td>\n",
       "      <td>12</td>\n",
       "    </tr>\n",
       "    <tr>\n",
       "      <th>1</th>\n",
       "      <td>ENSG00000000005</td>\n",
       "      <td>0</td>\n",
       "      <td>0</td>\n",
       "      <td>0</td>\n",
       "      <td>0</td>\n",
       "      <td>0</td>\n",
       "      <td>0</td>\n",
       "      <td>...</td>\n",
       "      <td>0</td>\n",
       "      <td>0</td>\n",
       "      <td>0</td>\n",
       "      <td>0</td>\n",
       "      <td>0</td>\n",
       "      <td>0</td>\n",
       "      <td>2</td>\n",
       "    </tr>\n",
       "    <tr>\n",
       "      <th>2</th>\n",
       "      <td>ENSG00000000419</td>\n",
       "      <td>1216</td>\n",
       "      <td>1228</td>\n",
       "      <td>1022</td>\n",
       "      <td>912</td>\n",
       "      <td>491</td>\n",
       "      <td>449</td>\n",
       "      <td>...</td>\n",
       "      <td>484</td>\n",
       "      <td>926</td>\n",
       "      <td>803</td>\n",
       "      <td>630</td>\n",
       "      <td>537</td>\n",
       "      <td>582</td>\n",
       "      <td>34038</td>\n",
       "    </tr>\n",
       "  </tbody>\n",
       "</table>\n",
       "<p>3 rows × 50 columns</p>\n",
       "</div>"
      ],
      "text/plain": [
       "        Unnamed: 0  H223  H224  H225  H226  H227  H228  ...  H265  H266  H267  \\\n",
       "0  ENSG00000000003     0     0     0     1     0     0  ...     0     2     0   \n",
       "1  ENSG00000000005     0     0     0     0     0     0  ...     0     0     0   \n",
       "2  ENSG00000000419  1216  1228  1022   912   491   449  ...   484   926   803   \n",
       "\n",
       "   H268  H269  H270   MISS  \n",
       "0     0     1     0     12  \n",
       "1     0     0     0      2  \n",
       "2   630   537   582  34038  \n",
       "\n",
       "[3 rows x 50 columns]"
      ]
     },
     "execution_count": 8,
     "metadata": {},
     "output_type": "execute_result"
    }
   ],
   "source": [
    "df_cpy[\"MISS\"] = df_cpy.sum(axis=1)\n",
    "df_cpy.head(3)"
   ]
  },
  {
   "cell_type": "code",
   "execution_count": 9,
   "id": "0c6e6d24",
   "metadata": {},
   "outputs": [
    {
     "name": "stdout",
     "output_type": "stream",
     "text": [
      "Ensambles missing: 20537\n"
     ]
    }
   ],
   "source": [
    "df_ausentes = df_cpy[df_cpy.MISS == 0]\n",
    "print(f\"Ensambles missing: {df_ausentes.shape[0]}\")"
   ]
  },
  {
   "cell_type": "code",
   "execution_count": 10,
   "id": "997a27bd",
   "metadata": {},
   "outputs": [
    {
     "name": "stdout",
     "output_type": "stream",
     "text": [
      "Ensambles: 44678\n"
     ]
    }
   ],
   "source": [
    "df_cpy = df_cpy[df_cpy.MISS != 0]\n",
    "\n",
    "print(f\"Ensambles: {df_cpy.shape[0]}\")"
   ]
  },
  {
   "cell_type": "code",
   "execution_count": 11,
   "id": "9fbe35fe",
   "metadata": {},
   "outputs": [],
   "source": [
    "df_cpy.drop('MISS', axis='columns',inplace=True)"
   ]
  },
  {
   "cell_type": "code",
   "execution_count": 12,
   "id": "29cc9dcc",
   "metadata": {},
   "outputs": [
    {
     "name": "stdout",
     "output_type": "stream",
     "text": [
      "Genes:  44678\n"
     ]
    }
   ],
   "source": [
    "print(\"Genes: \", df_cpy.value_counts().sum())"
   ]
  },
  {
   "cell_type": "code",
   "execution_count": 13,
   "id": "45934cd0",
   "metadata": {},
   "outputs": [
    {
     "data": {
      "text/html": [
       "<div>\n",
       "<style scoped>\n",
       "    .dataframe tbody tr th:only-of-type {\n",
       "        vertical-align: middle;\n",
       "    }\n",
       "\n",
       "    .dataframe tbody tr th {\n",
       "        vertical-align: top;\n",
       "    }\n",
       "\n",
       "    .dataframe thead th {\n",
       "        text-align: right;\n",
       "    }\n",
       "</style>\n",
       "<table border=\"1\" class=\"dataframe\">\n",
       "  <thead>\n",
       "    <tr style=\"text-align: right;\">\n",
       "      <th></th>\n",
       "      <th>H223</th>\n",
       "      <th>H224</th>\n",
       "      <th>H225</th>\n",
       "      <th>H226</th>\n",
       "      <th>H227</th>\n",
       "      <th>H228</th>\n",
       "      <th>H229</th>\n",
       "      <th>...</th>\n",
       "      <th>H264</th>\n",
       "      <th>H265</th>\n",
       "      <th>H266</th>\n",
       "      <th>H267</th>\n",
       "      <th>H268</th>\n",
       "      <th>H269</th>\n",
       "      <th>H270</th>\n",
       "    </tr>\n",
       "    <tr>\n",
       "      <th>Unnamed: 0</th>\n",
       "      <th></th>\n",
       "      <th></th>\n",
       "      <th></th>\n",
       "      <th></th>\n",
       "      <th></th>\n",
       "      <th></th>\n",
       "      <th></th>\n",
       "      <th></th>\n",
       "      <th></th>\n",
       "      <th></th>\n",
       "      <th></th>\n",
       "      <th></th>\n",
       "      <th></th>\n",
       "      <th></th>\n",
       "      <th></th>\n",
       "    </tr>\n",
       "  </thead>\n",
       "  <tbody>\n",
       "    <tr>\n",
       "      <th>ENSG00000000003</th>\n",
       "      <td>0</td>\n",
       "      <td>0</td>\n",
       "      <td>0</td>\n",
       "      <td>1</td>\n",
       "      <td>0</td>\n",
       "      <td>0</td>\n",
       "      <td>0</td>\n",
       "      <td>...</td>\n",
       "      <td>1</td>\n",
       "      <td>0</td>\n",
       "      <td>2</td>\n",
       "      <td>0</td>\n",
       "      <td>0</td>\n",
       "      <td>1</td>\n",
       "      <td>0</td>\n",
       "    </tr>\n",
       "    <tr>\n",
       "      <th>ENSG00000000005</th>\n",
       "      <td>0</td>\n",
       "      <td>0</td>\n",
       "      <td>0</td>\n",
       "      <td>0</td>\n",
       "      <td>0</td>\n",
       "      <td>0</td>\n",
       "      <td>0</td>\n",
       "      <td>...</td>\n",
       "      <td>0</td>\n",
       "      <td>0</td>\n",
       "      <td>0</td>\n",
       "      <td>0</td>\n",
       "      <td>0</td>\n",
       "      <td>0</td>\n",
       "      <td>0</td>\n",
       "    </tr>\n",
       "    <tr>\n",
       "      <th>ENSG00000000419</th>\n",
       "      <td>1216</td>\n",
       "      <td>1228</td>\n",
       "      <td>1022</td>\n",
       "      <td>912</td>\n",
       "      <td>491</td>\n",
       "      <td>449</td>\n",
       "      <td>466</td>\n",
       "      <td>...</td>\n",
       "      <td>450</td>\n",
       "      <td>484</td>\n",
       "      <td>926</td>\n",
       "      <td>803</td>\n",
       "      <td>630</td>\n",
       "      <td>537</td>\n",
       "      <td>582</td>\n",
       "    </tr>\n",
       "    <tr>\n",
       "      <th>ENSG00000000457</th>\n",
       "      <td>189</td>\n",
       "      <td>114</td>\n",
       "      <td>110</td>\n",
       "      <td>289</td>\n",
       "      <td>186</td>\n",
       "      <td>148</td>\n",
       "      <td>169</td>\n",
       "      <td>...</td>\n",
       "      <td>90</td>\n",
       "      <td>105</td>\n",
       "      <td>275</td>\n",
       "      <td>101</td>\n",
       "      <td>56</td>\n",
       "      <td>87</td>\n",
       "      <td>81</td>\n",
       "    </tr>\n",
       "    <tr>\n",
       "      <th>ENSG00000000460</th>\n",
       "      <td>74</td>\n",
       "      <td>38</td>\n",
       "      <td>55</td>\n",
       "      <td>127</td>\n",
       "      <td>30</td>\n",
       "      <td>17</td>\n",
       "      <td>45</td>\n",
       "      <td>...</td>\n",
       "      <td>20</td>\n",
       "      <td>15</td>\n",
       "      <td>139</td>\n",
       "      <td>54</td>\n",
       "      <td>25</td>\n",
       "      <td>21</td>\n",
       "      <td>47</td>\n",
       "    </tr>\n",
       "  </tbody>\n",
       "</table>\n",
       "<p>5 rows × 48 columns</p>\n",
       "</div>"
      ],
      "text/plain": [
       "                 H223  H224  H225  H226  H227  H228  H229  ...  H264  H265  \\\n",
       "Unnamed: 0                                                 ...               \n",
       "ENSG00000000003     0     0     0     1     0     0     0  ...     1     0   \n",
       "ENSG00000000005     0     0     0     0     0     0     0  ...     0     0   \n",
       "ENSG00000000419  1216  1228  1022   912   491   449   466  ...   450   484   \n",
       "ENSG00000000457   189   114   110   289   186   148   169  ...    90   105   \n",
       "ENSG00000000460    74    38    55   127    30    17    45  ...    20    15   \n",
       "\n",
       "                 H266  H267  H268  H269  H270  \n",
       "Unnamed: 0                                     \n",
       "ENSG00000000003     2     0     0     1     0  \n",
       "ENSG00000000005     0     0     0     0     0  \n",
       "ENSG00000000419   926   803   630   537   582  \n",
       "ENSG00000000457   275   101    56    87    81  \n",
       "ENSG00000000460   139    54    25    21    47  \n",
       "\n",
       "[5 rows x 48 columns]"
      ]
     },
     "execution_count": 13,
     "metadata": {},
     "output_type": "execute_result"
    }
   ],
   "source": [
    "df_cpy.index = df_cpy[\"Unnamed: 0\"]\n",
    "df_cpy.drop('Unnamed: 0', axis=1, inplace=True)\n",
    "# imprimir as 5 primeiras linhas\n",
    "df_cpy.head()"
   ]
  },
  {
   "cell_type": "code",
   "execution_count": 14,
   "id": "ecad103d",
   "metadata": {},
   "outputs": [],
   "source": [
    "df_cpy = df_cpy.T\n",
    "df_scaled = preprocessing.scale(df_cpy)"
   ]
  },
  {
   "cell_type": "code",
   "execution_count": 15,
   "id": "7e528910",
   "metadata": {},
   "outputs": [],
   "source": [
    "pca = PCA(n_components = 22)\n",
    "pca.fit(df_scaled)\n",
    "pca_data = pca.transform(df_scaled)"
   ]
  },
  {
   "cell_type": "code",
   "execution_count": 16,
   "id": "fbb2ab00",
   "metadata": {},
   "outputs": [
    {
     "data": {
      "image/png": "[encoded data removed]",
      "text/plain": [
       "<Figure size 432x288 with 1 Axes>"
      ]
     },
     "metadata": {
      "needs_background": "light"
     },
     "output_type": "display_data"
    }
   ],
   "source": [
    "per_var = np.round(pca.explained_variance_ratio_* 100, decimals=1)\n",
    "labels = ['PC' + str(x) for x in range(1, len(per_var)+1)]\n",
    " \n",
    "plt.bar(x=range(1,len(per_var)+1), height=per_var, tick_label=labels)\n",
    "plt.ylabel('Percentage of Explained Variance')\n",
    "plt.xlabel('Principal Component')\n",
    "plt.title('Scree Plot')\n",
    "plt.show()"
   ]
  },
  {
   "cell_type": "code",
   "execution_count": 17,
   "id": "43ae1158",
   "metadata": {},
   "outputs": [
    {
     "data": {
      "image/png": "[encoded data removed]",
      "text/plain": [
       "<Figure size 432x288 with 1 Axes>"
      ]
     },
     "metadata": {
      "needs_background": "light"
     },
     "output_type": "display_data"
    }
   ],
   "source": [
    "pca_df = pd.DataFrame(pca_data, columns=labels)\n",
    " \n",
    "plt.scatter(pca_df.PC1, pca_df.PC2)\n",
    "plt.title('My PCA Graph')\n",
    "plt.xlabel('PC1 - {0}%'.format(per_var[0]))\n",
    "plt.ylabel('PC2 - {0}%'.format(per_var[1]))\n",
    " \n",
    "for sample in pca_df.index:\n",
    "    plt.annotate(sample, (pca_df.PC1.loc[sample], pca_df.PC2.loc[sample]))\n",
    "\n",
    "plt.show()"
   ]
  },
  {
   "cell_type": "code",
   "execution_count": 18,
   "id": "bba8c961",
   "metadata": {},
   "outputs": [
    {
     "name": "stdout",
     "output_type": "stream",
     "text": [
      "12231    0.010273\n",
      "5072     0.010257\n",
      "7737     0.010231\n",
      "10409    0.010230\n",
      "15637    0.010216\n",
      "2711     0.010211\n",
      "12276    0.010204\n",
      "8965     0.010198\n",
      "7176     0.010193\n",
      "609      0.010191\n",
      "dtype: float64\n"
     ]
    }
   ],
   "source": [
    "loading_scores = pd.Series(pca.components_[0])\n",
    "\n",
    "sorted_loading_scores = loading_scores.abs().sort_values(ascending=False)\n",
    "\n",
    "top_10_genes = sorted_loading_scores[0:10].index.values\n",
    "\n",
    "print(loading_scores[top_10_genes])"
   ]
  },
  {
   "cell_type": "code",
   "execution_count": 19,
   "id": "2c82c4a3",
   "metadata": {},
   "outputs": [
    {
     "data": {
      "text/plain": [
       "0    0.003010\n",
       "1   -0.000083\n",
       "2    0.006091\n",
       "3    0.007108\n",
       "4    0.008599\n",
       "dtype: float64"
      ]
     },
     "execution_count": 19,
     "metadata": {},
     "output_type": "execute_result"
    }
   ],
   "source": [
    "loading_scores.head()"
   ]
  },
  {
   "cell_type": "code",
   "execution_count": 20,
   "id": "aed118a0",
   "metadata": {},
   "outputs": [
    {
     "data": {
      "text/plain": [
       "array([[   0,    0, 1216, ...,    1,    0,    0],\n",
       "       [   0,    0, 1228, ...,    1,    0,    0],\n",
       "       [   0,    0, 1022, ...,    0,    0,    0],\n",
       "       ...,\n",
       "       [   0,    0,  630, ...,    0,    0,    0],\n",
       "       [   1,    0,  537, ...,    0,    0,    0],\n",
       "       [   0,    0,  582, ...,    0,    0,    0]], dtype=int64)"
      ]
     },
     "execution_count": 20,
     "metadata": {},
     "output_type": "execute_result"
    }
   ],
   "source": [
    "X = df_cpy.iloc[:,0:].values\n",
    "\n",
    "X"
   ]
  },
  {
   "cell_type": "code",
   "execution_count": 21,
   "id": "d12e529d",
   "metadata": {},
   "outputs": [],
   "source": [
    "kmeans = KMeans(n_clusters = 8, init = 'random') "
   ]
  },
  {
   "cell_type": "code",
   "execution_count": 22,
   "id": "6536b931",
   "metadata": {},
   "outputs": [
    {
     "data": {
      "text/plain": [
       "KMeans(init='random')"
      ]
     },
     "execution_count": 22,
     "metadata": {},
     "output_type": "execute_result"
    }
   ],
   "source": [
    "kmeans.fit(X)"
   ]
  },
  {
   "cell_type": "code",
   "execution_count": 23,
   "id": "ce7f71dd",
   "metadata": {},
   "outputs": [
    {
     "data": {
      "text/plain": [
       "array([[0.00000000e+00, 0.00000000e+00, 9.86500000e+02, ...,\n",
       "        1.00000000e+00, 0.00000000e+00, 0.00000000e+00],\n",
       "       [2.00000000e-01, 0.00000000e+00, 4.37400000e+02, ...,\n",
       "        1.60000000e+00, 0.00000000e+00, 0.00000000e+00],\n",
       "       [2.50000000e-01, 0.00000000e+00, 6.43250000e+02, ...,\n",
       "        7.50000000e-01, 0.00000000e+00, 0.00000000e+00],\n",
       "       ...,\n",
       "       [5.83333333e-01, 0.00000000e+00, 7.54083333e+02, ...,\n",
       "        1.08333333e+00, 8.33333333e-02, 0.00000000e+00],\n",
       "       [2.00000000e-01, 0.00000000e+00, 6.54800000e+02, ...,\n",
       "        8.00000000e-01, 2.00000000e-01, 0.00000000e+00],\n",
       "       [1.66666667e-01, 6.93889390e-18, 6.05166667e+02, ...,\n",
       "        5.00000000e-01, 6.93889390e-18, 3.46944695e-18]])"
      ]
     },
     "execution_count": 23,
     "metadata": {},
     "output_type": "execute_result"
    }
   ],
   "source": [
    "kmeans.cluster_centers_"
   ]
  },
  {
   "cell_type": "code",
   "execution_count": 24,
   "id": "668c4d58",
   "metadata": {},
   "outputs": [
    {
     "data": {
      "image/png": "[encoded data removed]",
      "text/plain": [
       "<Figure size 432x288 with 1 Axes>"
      ]
     },
     "metadata": {
      "needs_background": "light"
     },
     "output_type": "display_data"
    }
   ],
   "source": [
    "wcss = []\n",
    "for i in range(1, 11):\n",
    "    kmeans = KMeans(n_clusters=i, init='k-means++', max_iter=300, n_init=10, random_state=0)\n",
    "    kmeans.fit(X)\n",
    "    wcss.append(kmeans.inertia_)\n",
    "plt.plot(range(1, 11), wcss)\n",
    "plt.title('Método do Cotovelo')\n",
    "plt.xlabel('Número de Clusters')\n",
    "plt.ylabel('WCSS')\n",
    "plt.show()"
   ]
  },
  {
   "cell_type": "code",
   "execution_count": 25,
   "id": "516075c2",
   "metadata": {},
   "outputs": [],
   "source": [
    "kmeans3 = KMeans(n_clusters = 3, init = 'random') "
   ]
  },
  {
   "cell_type": "code",
   "execution_count": 26,
   "id": "610c276a",
   "metadata": {},
   "outputs": [
    {
     "data": {
      "text/plain": [
       "KMeans(init='random', n_clusters=3)"
      ]
     },
     "execution_count": 26,
     "metadata": {},
     "output_type": "execute_result"
    }
   ],
   "source": [
    "kmeans3.fit(X)"
   ]
  },
  {
   "cell_type": "code",
   "execution_count": 27,
   "id": "57325b0f",
   "metadata": {},
   "outputs": [
    {
     "data": {
      "text/plain": [
       "array([[1.25000000e-01, 1.25000000e-01, 4.94625000e+02, ...,\n",
       "        1.87500000e+00, 0.00000000e+00, 0.00000000e+00],\n",
       "       [1.87500000e-01, 6.93889390e-18, 6.14875000e+02, ...,\n",
       "        6.87500000e-01, 6.25000000e-02, 3.46944695e-18],\n",
       "       [3.33333333e-01, 4.16666667e-02, 8.43458333e+02, ...,\n",
       "        9.58333333e-01, 4.16666667e-02, 4.16666667e-02]])"
      ]
     },
     "execution_count": 27,
     "metadata": {},
     "output_type": "execute_result"
    }
   ],
   "source": [
    "kmeans3.cluster_centers_"
   ]
  },
  {
   "cell_type": "code",
   "execution_count": 28,
   "id": "010288fc",
   "metadata": {},
   "outputs": [],
   "source": [
    "kmeans4 = KMeans(n_clusters = 4, init = 'random') "
   ]
  },
  {
   "cell_type": "code",
   "execution_count": 29,
   "id": "71dbcda1",
   "metadata": {},
   "outputs": [
    {
     "data": {
      "text/plain": [
       "KMeans(init='random', n_clusters=4)"
      ]
     },
     "execution_count": 29,
     "metadata": {},
     "output_type": "execute_result"
    }
   ],
   "source": [
    "kmeans4.fit(X)"
   ]
  },
  {
   "cell_type": "code",
   "execution_count": 30,
   "id": "73386bdc",
   "metadata": {},
   "outputs": [
    {
     "data": {
      "text/plain": [
       "array([[ 3.33333333e-01,  4.16666667e-02,  8.43458333e+02, ...,\n",
       "         9.58333333e-01,  4.16666667e-02,  4.16666667e-02],\n",
       "       [ 2.00000000e-01,  0.00000000e+00,  6.37000000e+02, ...,\n",
       "         4.00000000e-01,  2.00000000e-01,  0.00000000e+00],\n",
       "       [ 1.25000000e-01,  1.25000000e-01,  4.94625000e+02, ...,\n",
       "         1.87500000e+00,  0.00000000e+00,  0.00000000e+00],\n",
       "       [ 1.81818182e-01, -6.93889390e-18,  6.04818182e+02, ...,\n",
       "         8.18181818e-01, -6.93889390e-18, -3.46944695e-18]])"
      ]
     },
     "execution_count": 30,
     "metadata": {},
     "output_type": "execute_result"
    }
   ],
   "source": [
    "kmeans4.cluster_centers_"
   ]
  },
  {
   "cell_type": "code",
   "execution_count": 31,
   "id": "310e7026",
   "metadata": {},
   "outputs": [
    {
     "data": {
      "text/plain": [
       "KMeans(init='random', n_clusters=3)"
      ]
     },
     "execution_count": 31,
     "metadata": {},
     "output_type": "execute_result"
    }
   ],
   "source": [
    "modelo_v1 = KMeans(n_clusters=3, init='random')\n",
    "modelo_v1.fit(X)"
   ]
  },
  {
   "cell_type": "code",
   "execution_count": 32,
   "id": "8236fa5f",
   "metadata": {},
   "outputs": [
    {
     "name": "stdout",
     "output_type": "stream",
     "text": [
      "Silhouette Score (K=3) : 0.32750348548917674\n"
     ]
    }
   ],
   "source": [
    "labels = modelo_v1.labels_\n",
    "\n",
    "print(f\"Silhouette Score (K=3) : {silhouette_score(X, labels, metric='euclidean')}\")"
   ]
  },
  {
   "cell_type": "code",
   "execution_count": 33,
   "id": "a365f70c",
   "metadata": {},
   "outputs": [
    {
     "data": {
      "text/plain": [
       "KMeans(init='random', n_clusters=4)"
      ]
     },
     "execution_count": 33,
     "metadata": {},
     "output_type": "execute_result"
    }
   ],
   "source": [
    "modelo_v2 = KMeans(n_clusters=4, init='random')\n",
    "modelo_v2.fit(X)"
   ]
  },
  {
   "cell_type": "code",
   "execution_count": 34,
   "id": "41e2e893",
   "metadata": {},
   "outputs": [
    {
     "name": "stdout",
     "output_type": "stream",
     "text": [
      "Silhouette Score (K=4) : 0.37529543577461205\n"
     ]
    }
   ],
   "source": [
    "labels = modelo_v2.labels_\n",
    "\n",
    "print(f\"Silhouette Score (K=4) : {silhouette_score(X, labels, metric='euclidean')}\")"
   ]
  },
  {
   "cell_type": "code",
   "execution_count": 35,
   "id": "ea096376",
   "metadata": {},
   "outputs": [
    {
     "data": {
      "text/plain": [
       "KMeans(init='random')"
      ]
     },
     "execution_count": 35,
     "metadata": {},
     "output_type": "execute_result"
    }
   ],
   "source": [
    "modelo_v3 = KMeans(n_clusters=8, init='random')\n",
    "modelo_v3.fit(X)"
   ]
  },
  {
   "cell_type": "code",
   "execution_count": 36,
   "id": "c5a8aceb",
   "metadata": {},
   "outputs": [
    {
     "name": "stdout",
     "output_type": "stream",
     "text": [
      "Silhouette Score (K=8) : 0.3207374026068212\n"
     ]
    }
   ],
   "source": [
    "labels = modelo_v3.labels_\n",
    "\n",
    "print(f\"Silhouette Score (K=8) : {silhouette_score(X, labels, metric='euclidean')}\")"
   ]
  },
  {
   "cell_type": "code",
   "execution_count": 37,
   "id": "573ece43",
   "metadata": {},
   "outputs": [],
   "source": [
    "# reconstroi o DataFrame com o atributo FAMILIA\n",
    "\n",
    "# cria lista com o nome dos atributos\n",
    "atributos = df_cpy.columns\n",
    "# cria lista com o nome dos dos índices\n",
    "indices = df_cpy.index\n",
    "cluster_final = pd.DataFrame(X, columns= atributos, index=indices)\n",
    "\n",
    "# cria mais um atributo especificando a família do indivíduo\n",
    "cluster_final[\"FAMILIA\"] = modelo_v1.labels_"
   ]
  },
  {
   "cell_type": "code",
   "execution_count": 38,
   "id": "d10b61f8",
   "metadata": {
    "scrolled": true
   },
   "outputs": [
    {
     "data": {
      "text/html": [
       "<div>\n",
       "<style scoped>\n",
       "    .dataframe tbody tr th:only-of-type {\n",
       "        vertical-align: middle;\n",
       "    }\n",
       "\n",
       "    .dataframe tbody tr th {\n",
       "        vertical-align: top;\n",
       "    }\n",
       "\n",
       "    .dataframe thead th {\n",
       "        text-align: right;\n",
       "    }\n",
       "</style>\n",
       "<table border=\"1\" class=\"dataframe\">\n",
       "  <thead>\n",
       "    <tr style=\"text-align: right;\">\n",
       "      <th>Unnamed: 0</th>\n",
       "      <th>ENSG00000000003</th>\n",
       "      <th>ENSG00000000005</th>\n",
       "      <th>ENSG00000000419</th>\n",
       "      <th>ENSG00000000457</th>\n",
       "      <th>ENSG00000000460</th>\n",
       "      <th>ENSG00000000938</th>\n",
       "      <th>ENSG00000000971</th>\n",
       "      <th>...</th>\n",
       "      <th>ENSG00000281903</th>\n",
       "      <th>ENSG00000281904</th>\n",
       "      <th>ENSG00000281909</th>\n",
       "      <th>ENSG00000281912</th>\n",
       "      <th>ENSG00000281918</th>\n",
       "      <th>ENSG00000281920</th>\n",
       "      <th>FAMILIA</th>\n",
       "    </tr>\n",
       "  </thead>\n",
       "  <tbody>\n",
       "    <tr>\n",
       "      <th>H268</th>\n",
       "      <td>0</td>\n",
       "      <td>0</td>\n",
       "      <td>630</td>\n",
       "      <td>56</td>\n",
       "      <td>25</td>\n",
       "      <td>4823</td>\n",
       "      <td>8</td>\n",
       "      <td>...</td>\n",
       "      <td>2</td>\n",
       "      <td>1</td>\n",
       "      <td>0</td>\n",
       "      <td>0</td>\n",
       "      <td>0</td>\n",
       "      <td>0</td>\n",
       "      <td>2</td>\n",
       "    </tr>\n",
       "    <tr>\n",
       "      <th>H230</th>\n",
       "      <td>0</td>\n",
       "      <td>0</td>\n",
       "      <td>727</td>\n",
       "      <td>258</td>\n",
       "      <td>100</td>\n",
       "      <td>7668</td>\n",
       "      <td>4</td>\n",
       "      <td>...</td>\n",
       "      <td>1</td>\n",
       "      <td>0</td>\n",
       "      <td>0</td>\n",
       "      <td>2</td>\n",
       "      <td>0</td>\n",
       "      <td>0</td>\n",
       "      <td>0</td>\n",
       "    </tr>\n",
       "    <tr>\n",
       "      <th>H251</th>\n",
       "      <td>0</td>\n",
       "      <td>0</td>\n",
       "      <td>547</td>\n",
       "      <td>178</td>\n",
       "      <td>31</td>\n",
       "      <td>19576</td>\n",
       "      <td>2</td>\n",
       "      <td>...</td>\n",
       "      <td>17</td>\n",
       "      <td>0</td>\n",
       "      <td>0</td>\n",
       "      <td>0</td>\n",
       "      <td>0</td>\n",
       "      <td>0</td>\n",
       "      <td>1</td>\n",
       "    </tr>\n",
       "    <tr>\n",
       "      <th>H228</th>\n",
       "      <td>0</td>\n",
       "      <td>0</td>\n",
       "      <td>449</td>\n",
       "      <td>148</td>\n",
       "      <td>17</td>\n",
       "      <td>6856</td>\n",
       "      <td>16</td>\n",
       "      <td>...</td>\n",
       "      <td>1</td>\n",
       "      <td>0</td>\n",
       "      <td>0</td>\n",
       "      <td>5</td>\n",
       "      <td>0</td>\n",
       "      <td>0</td>\n",
       "      <td>2</td>\n",
       "    </tr>\n",
       "    <tr>\n",
       "      <th>H234</th>\n",
       "      <td>1</td>\n",
       "      <td>0</td>\n",
       "      <td>1111</td>\n",
       "      <td>248</td>\n",
       "      <td>99</td>\n",
       "      <td>12703</td>\n",
       "      <td>6</td>\n",
       "      <td>...</td>\n",
       "      <td>3</td>\n",
       "      <td>0</td>\n",
       "      <td>4</td>\n",
       "      <td>2</td>\n",
       "      <td>0</td>\n",
       "      <td>0</td>\n",
       "      <td>0</td>\n",
       "    </tr>\n",
       "  </tbody>\n",
       "</table>\n",
       "<p>5 rows × 44679 columns</p>\n",
       "</div>"
      ],
      "text/plain": [
       "Unnamed: 0  ENSG00000000003  ENSG00000000005  ENSG00000000419  \\\n",
       "H268                      0                0              630   \n",
       "H230                      0                0              727   \n",
       "H251                      0                0              547   \n",
       "H228                      0                0              449   \n",
       "H234                      1                0             1111   \n",
       "\n",
       "Unnamed: 0  ENSG00000000457  ENSG00000000460  ENSG00000000938  \\\n",
       "H268                     56               25             4823   \n",
       "H230                    258              100             7668   \n",
       "H251                    178               31            19576   \n",
       "H228                    148               17             6856   \n",
       "H234                    248               99            12703   \n",
       "\n",
       "Unnamed: 0  ENSG00000000971  ...  ENSG00000281903  ENSG00000281904  \\\n",
       "H268                      8  ...                2                1   \n",
       "H230                      4  ...                1                0   \n",
       "H251                      2  ...               17                0   \n",
       "H228                     16  ...                1                0   \n",
       "H234                      6  ...                3                0   \n",
       "\n",
       "Unnamed: 0  ENSG00000281909  ENSG00000281912  ENSG00000281918  \\\n",
       "H268                      0                0                0   \n",
       "H230                      0                2                0   \n",
       "H251                      0                0                0   \n",
       "H228                      0                5                0   \n",
       "H234                      4                2                0   \n",
       "\n",
       "Unnamed: 0  ENSG00000281920  FAMILIA  \n",
       "H268                      0        2  \n",
       "H230                      0        0  \n",
       "H251                      0        1  \n",
       "H228                      0        2  \n",
       "H234                      0        0  \n",
       "\n",
       "[5 rows x 44679 columns]"
      ]
     },
     "execution_count": 38,
     "metadata": {},
     "output_type": "execute_result"
    }
   ],
   "source": [
    "cluster_final.sample(5)"
   ]
  },
  {
   "cell_type": "code",
   "execution_count": 39,
   "id": "71e9884f",
   "metadata": {
    "scrolled": true
   },
   "outputs": [
    {
     "name": "stdout",
     "output_type": "stream",
     "text": [
      "==================================================================================================================================\n",
      "\n",
      "Family 1 : ['H223' 'H224' 'H225' 'H226' 'H230' 'H234' 'H235' 'H236' 'H237' 'H238'\n",
      " 'H242' 'H246' 'H247' 'H248' 'H249' 'H250' 'H254' 'H258' 'H259' 'H260'\n",
      " 'H261' 'H262' 'H266' 'H270']\n",
      "\n",
      "Total family members : 24\n",
      "\n",
      "                                                       ********************                                                       \n",
      "\n",
      "Family 2 : ['H227' 'H231' 'H233' 'H239' 'H241' 'H243' 'H245' 'H251' 'H255' 'H257'\n",
      " 'H263' 'H264' 'H265' 'H267' 'H269']\n",
      "\n",
      "Total family members : 15\n",
      "\n",
      "                                                       ********************                                                       \n",
      "\n",
      "Family 3 : ['H228' 'H229' 'H232' 'H240' 'H244' 'H252' 'H253' 'H256' 'H268']\n",
      "\n",
      "Total family members : 9\n",
      "\n",
      "                                                       ********************                                                       \n",
      "==================================================================================================================================\n"
     ]
    }
   ],
   "source": [
    "familias = cluster_final[\"FAMILIA\"].unique()\n",
    "# cabecalho\n",
    "print(\"=\"*130)\n",
    "for familia in familias:\n",
    "  individuos = cluster_final[cluster_final[\"FAMILIA\"] == familia]\n",
    "  print(f\"\\nFamily {int(familia) + 1} : {individuos.index.values}\\n\")\n",
    "  print(f\"Total family members : {len(individuos)}\\n\")\n",
    "  print(\"********************\".center(130))\n",
    "print(\"=\"*130)"
   ]
  },
  {
   "cell_type": "code",
   "execution_count": null,
   "id": "f548306c",
   "metadata": {},
   "outputs": [],
   "source": []
  }
 ],
 "metadata": {
  "kernelspec": {
   "display_name": "Python 3 (ipykernel)",
   "language": "python",
   "name": "python3"
  },
  "language_info": {
   "codemirror_mode": {
    "name": "ipython",
    "version": 3
   },
   "file_extension": ".py",
   "mimetype": "text/x-python",
   "name": "python",
   "nbconvert_exporter": "python",
   "pygments_lexer": "ipython3",
   "version": "3.9.7"
  }
 },
 "nbformat": 4,
 "nbformat_minor": 5
}
